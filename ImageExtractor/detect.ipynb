{
 "cells": [
  {
   "cell_type": "code",
   "execution_count": 3,
   "metadata": {},
   "outputs": [],
   "source": [
    "import numpy as np\n",
    "import cv2"
   ]
  },
  {
   "cell_type": "code",
   "execution_count": null,
   "metadata": {},
   "outputs": [],
   "source": []
  },
  {
   "cell_type": "code",
   "execution_count": 5,
   "metadata": {},
   "outputs": [],
   "source": [
    "class ExtractColors:\n",
    "    def __init__(self,filepath):\n",
    "        self.image=cv2.imread(filepath)\n",
    "        self.p_image=None\n",
    "        self.colorList=[]\n",
    "        self.filename=filepath.split('/')[1]\n",
    "    \n",
    "    def preProcess(self):\n",
    "        \n",
    "        image=self.image\n",
    "        img=image[50:990,140:180]\n",
    "        height, width, _ = np.shape(img)\n",
    "        for i in range(height):\n",
    "            mean=np.average(img[i],axis=0)\n",
    "            img[i]=np.array([mean]*width)\n",
    "        dims=(width*2,height)\n",
    "        img=cv2.resize(img,dims,interpolation=cv2.INTER_CUBIC)\n",
    "        self.p_image=img\n",
    "\n",
    "\n",
    "    @staticmethod\n",
    "    def display(image):\n",
    "        cv2.imshow(\"Image\",image)\n",
    "        cv2.waitKey(0)\n",
    "        cv2.destroyAllWindows()\n",
    "\n",
    "    @staticmethod\n",
    "    def save(img,path):\n",
    "        cv2.imwrite(path,img)\n",
    "\n",
    "    def read_colors(self):\n",
    "        def create_bar(height, width, color):\n",
    "            bar = np.zeros((height, width, 3), np.uint8)\n",
    "            bar[:] = color\n",
    "            red, green, blue = int(color[2]), int(color[1]), int(color[0])\n",
    "            return bar, (red, green, blue)\n",
    "\n",
    "    \n",
    "        height, width, _ = np.shape(self.p_image)\n",
    "        img=self.p_image\n",
    "        # print(height, width)\n",
    "        centers=[]\n",
    "        xpos=width//2\n",
    "        ypos=20\n",
    "        y_offset=90\n",
    "        for i in range(10):\n",
    "            segment=img[ypos-2:ypos,xpos-1:xpos+1]\n",
    "            avg_color=[]\n",
    "            for row in segment:\n",
    "                avg_color_row=np.average(row,axis=0)\n",
    "                avg_color.append(avg_color_row)\n",
    "            avg_color=np.array(avg_color)\n",
    "            avg_col=np.average(avg_color,axis=0)\n",
    "            centers.append(avg_col)\n",
    "            ypos+=y_offset\n",
    "    \n",
    "        bars = []\n",
    "        rgb_values = []\n",
    "\n",
    "        for index, row in enumerate(centers):\n",
    "            bar, rgb = create_bar(200,100,row)\n",
    "            sep,_ =create_bar(200,5,[0,0,0])\n",
    "            bars.append(bar)\n",
    "            bars.append(sep)\n",
    "            rgb_values.append(rgb)\n",
    "\n",
    "        img_bar = np.hstack(bars)\n",
    "        return rgb_values,img_bar"
   ]
  },
  {
   "cell_type": "code",
   "execution_count": 6,
   "metadata": {},
   "outputs": [
    {
     "name": "stdout",
     "output_type": "stream",
     "text": [
      "[(205, 187, 166), (201, 182, 156), (193, 165, 143), (210, 154, 10), (192, 168, 121), (201, 182, 162), (195, 173, 160), (112, 172, 160), (195, 155, 60), (205, 145, 98)]\n"
     ]
    }
   ],
   "source": [
    "extractor=ExtractColors('sample/image1.jpg')\n",
    "extractor.preProcess()\n",
    "ExtractColors.save(extractor.p_image,\"output/{}\".format(extractor.filename))\n",
    "rgb_val,img_colors=extractor.read_colors()\n",
    "print(rgb_val)\n",
    "ExtractColors.display(img_colors)"
   ]
  },
  {
   "cell_type": "code",
   "execution_count": null,
   "metadata": {},
   "outputs": [],
   "source": []
  }
 ],
 "metadata": {
  "kernelspec": {
   "display_name": "ML",
   "language": "python",
   "name": "python3"
  },
  "language_info": {
   "codemirror_mode": {
    "name": "ipython",
    "version": 3
   },
   "file_extension": ".py",
   "mimetype": "text/x-python",
   "name": "python",
   "nbconvert_exporter": "python",
   "pygments_lexer": "ipython3",
   "version": "3.10.4"
  },
  "orig_nbformat": 4,
  "vscode": {
   "interpreter": {
    "hash": "2013398e4698d39c67b399f142a67befc003fad0af7802e15ac8387abd8dcf14"
   }
  }
 },
 "nbformat": 4,
 "nbformat_minor": 2
}
